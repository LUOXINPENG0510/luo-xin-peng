{
 "cells": [
  {
   "cell_type": "code",
   "execution_count": 1,
   "id": "e13f4c00",
   "metadata": {},
   "outputs": [],
   "source": [
    "word2info = {}\n",
    "import glob\n",
    "filenames = glob.glob('./词典七类/*txt') \n",
    "for filename in filenames:\n",
    "    name = filename.split('\\\\')[-1].split('.')[0]\n",
    "    with open(filename, encoding='utf-8') as fr:\n",
    "        for line in fr:\n",
    "            word2info.setdefault(name, []).append(line.strip())"
   ]
  },
  {
   "cell_type": "code",
   "execution_count": 2,
   "id": "7724cb82",
   "metadata": {},
   "outputs": [],
   "source": [
    "ALLKEYS = []\n",
    "for ls in word2info.values():\n",
    "    ALLKEYS.extend(ls)"
   ]
  },
  {
   "cell_type": "code",
   "execution_count": 3,
   "id": "ead7c2d8",
   "metadata": {},
   "outputs": [],
   "source": [
    "ALLKEYS = set(ls)"
   ]
  },
  {
   "cell_type": "code",
   "execution_count": 4,
   "id": "b9730caf",
   "metadata": {},
   "outputs": [
    {
     "data": {
      "text/plain": [
       "dict_keys(['乐', '哀', '好', '怒', '恶', '惊', '惧'])"
      ]
     },
     "execution_count": 4,
     "metadata": {},
     "output_type": "execute_result"
    }
   ],
   "source": [
    "word2info.keys()"
   ]
  },
  {
   "cell_type": "code",
   "execution_count": 5,
   "id": "d584b2a8",
   "metadata": {},
   "outputs": [],
   "source": [
    "import numpy as np\n",
    "from collections import defaultdict\n",
    "def getData(datas):\n",
    "    label2num = defaultdict(int)\n",
    "    num = 1 #总情感词数\n",
    "    for k, v in word2info.items():\n",
    "        for _ in v:\n",
    "            if _ in ''.join(datas):\n",
    "                num+=1\n",
    "                label2num[k] = label2num.setdefault(k, 0) +1\n",
    "            else:\n",
    "                pass\n",
    "    emos = ['乐','好','怒','衰','惧','恶','惊']\n",
    "    ifos = label2num['乐'], label2num['好'], label2num['怒'], label2num['衰'], label2num['惧'], label2num['恶'], label2num['惊']\n",
    "    return datas, label2num['乐'], label2num['好'], label2num['怒'], label2num['衰'], label2num['惧'], label2num['恶'], label2num['惊'], emos[np.argmax(ifos)]"
   ]
  },
  {
   "cell_type": "code",
   "execution_count": 6,
   "id": "d2252023",
   "metadata": {},
   "outputs": [],
   "source": [
    "import pandas as pd"
   ]
  },
  {
   "cell_type": "code",
   "execution_count": 7,
   "id": "5cedacfb",
   "metadata": {},
   "outputs": [],
   "source": [
    "df = pd.read_csv('文本去重汇总.csv', encoding='utf-8')"
   ]
  },
  {
   "cell_type": "code",
   "execution_count": 8,
   "id": "fb8e542e",
   "metadata": {},
   "outputs": [
    {
     "data": {
      "text/html": [
       "<div>\n",
       "<style scoped>\n",
       "    .dataframe tbody tr th:only-of-type {\n",
       "        vertical-align: middle;\n",
       "    }\n",
       "\n",
       "    .dataframe tbody tr th {\n",
       "        vertical-align: top;\n",
       "    }\n",
       "\n",
       "    .dataframe thead th {\n",
       "        text-align: right;\n",
       "    }\n",
       "</style>\n",
       "<table border=\"1\" class=\"dataframe\">\n",
       "  <thead>\n",
       "    <tr style=\"text-align: right;\">\n",
       "      <th></th>\n",
       "      <th>内容</th>\n",
       "    </tr>\n",
       "  </thead>\n",
       "  <tbody>\n",
       "    <tr>\n",
       "      <th>0</th>\n",
       "      <td>打工人，再也不用点外卖了！有了它，想吃啥就吃啥提前注水，开机加热半小时就可以吃到麻麻做的热乎...</td>\n",
       "    </tr>\n",
       "    <tr>\n",
       "      <th>1</th>\n",
       "      <td>宝宝辅食山药虾泥这个味道真的很好我家不爱吃辅食的宝宝都喜欢?-好吃-宝妈们可以尝试一下哦山药...</td>\n",
       "    </tr>\n",
       "    <tr>\n",
       "      <th>2</th>\n",
       "      <td>上火了，口苦，跟吃药了一样，例假也不来，我这心都滴了嗓子眼儿了</td>\n",
       "    </tr>\n",
       "    <tr>\n",
       "      <th>3</th>\n",
       "      <td>好像得产后抑郁症了，想离婚，感觉各种烦</td>\n",
       "    </tr>\n",
       "    <tr>\n",
       "      <th>4</th>\n",
       "      <td>有了这个懒人烹饪锅我都爱上做饭啦！每天再也不用点外卖了傻瓜操做我这种厨房新手好适合</td>\n",
       "    </tr>\n",
       "  </tbody>\n",
       "</table>\n",
       "</div>"
      ],
      "text/plain": [
       "                                                  内容\n",
       "0  打工人，再也不用点外卖了！有了它，想吃啥就吃啥提前注水，开机加热半小时就可以吃到麻麻做的热乎...\n",
       "1  宝宝辅食山药虾泥这个味道真的很好我家不爱吃辅食的宝宝都喜欢?-好吃-宝妈们可以尝试一下哦山药...\n",
       "2                    上火了，口苦，跟吃药了一样，例假也不来，我这心都滴了嗓子眼儿了\n",
       "3                                好像得产后抑郁症了，想离婚，感觉各种烦\n",
       "4          有了这个懒人烹饪锅我都爱上做饭啦！每天再也不用点外卖了傻瓜操做我这种厨房新手好适合"
      ]
     },
     "execution_count": 8,
     "metadata": {},
     "output_type": "execute_result"
    }
   ],
   "source": [
    "df.head()"
   ]
  },
  {
   "cell_type": "code",
   "execution_count": 9,
   "id": "4ffe9d79",
   "metadata": {},
   "outputs": [
    {
     "name": "stderr",
     "output_type": "stream",
     "text": [
      "100%|████████████████████████████████████████████████████████████████████████████| 17539/17539 [19:40<00:00, 14.86it/s]\n"
     ]
    }
   ],
   "source": [
    "import csv\n",
    "fw = open('results.csv', 'w',encoding='utf-8', newline='')\n",
    "csv_writer = csv.writer(fw)\n",
    "tts = '内容\t乐的占比 \t好的占比\t怒的占比\t哀的占比\t惧的占比 \t恶的占比\t惊的占比\t标签'\n",
    "csv_writer.writerow([x for x in tts.split()])\n",
    "from tqdm import tqdm\n",
    "for filename in tqdm(df['内容'].values):\n",
    "    info = getData(filename)\n",
    "    csv_writer.writerow(list(info))\n",
    "fw.close()"
   ]
  },
  {
   "cell_type": "code",
   "execution_count": 10,
   "id": "7a6e8ac5",
   "metadata": {},
   "outputs": [],
   "source": [
    "dfx = pd.read_csv('results.csv')"
   ]
  },
  {
   "cell_type": "code",
   "execution_count": 11,
   "id": "b55e85ac",
   "metadata": {},
   "outputs": [
    {
     "data": {
      "text/html": [
       "<div>\n",
       "<style scoped>\n",
       "    .dataframe tbody tr th:only-of-type {\n",
       "        vertical-align: middle;\n",
       "    }\n",
       "\n",
       "    .dataframe tbody tr th {\n",
       "        vertical-align: top;\n",
       "    }\n",
       "\n",
       "    .dataframe thead th {\n",
       "        text-align: right;\n",
       "    }\n",
       "</style>\n",
       "<table border=\"1\" class=\"dataframe\">\n",
       "  <thead>\n",
       "    <tr style=\"text-align: right;\">\n",
       "      <th></th>\n",
       "      <th>内容</th>\n",
       "      <th>乐的占比</th>\n",
       "      <th>好的占比</th>\n",
       "      <th>怒的占比</th>\n",
       "      <th>哀的占比</th>\n",
       "      <th>惧的占比</th>\n",
       "      <th>恶的占比</th>\n",
       "      <th>惊的占比</th>\n",
       "      <th>标签</th>\n",
       "    </tr>\n",
       "  </thead>\n",
       "  <tbody>\n",
       "    <tr>\n",
       "      <th>0</th>\n",
       "      <td>打工人，再也不用点外卖了！有了它，想吃啥就吃啥提前注水，开机加热半小时就可以吃到麻麻做的热乎...</td>\n",
       "      <td>2</td>\n",
       "      <td>2</td>\n",
       "      <td>0</td>\n",
       "      <td>0</td>\n",
       "      <td>0</td>\n",
       "      <td>1</td>\n",
       "      <td>0</td>\n",
       "      <td>乐</td>\n",
       "    </tr>\n",
       "    <tr>\n",
       "      <th>1</th>\n",
       "      <td>宝宝辅食山药虾泥这个味道真的很好我家不爱吃辅食的宝宝都喜欢?-好吃-宝妈们可以尝试一下哦山药...</td>\n",
       "      <td>0</td>\n",
       "      <td>3</td>\n",
       "      <td>0</td>\n",
       "      <td>0</td>\n",
       "      <td>0</td>\n",
       "      <td>0</td>\n",
       "      <td>0</td>\n",
       "      <td>好</td>\n",
       "    </tr>\n",
       "    <tr>\n",
       "      <th>2</th>\n",
       "      <td>上火了，口苦，跟吃药了一样，例假也不来，我这心都滴了嗓子眼儿了</td>\n",
       "      <td>0</td>\n",
       "      <td>0</td>\n",
       "      <td>1</td>\n",
       "      <td>0</td>\n",
       "      <td>0</td>\n",
       "      <td>0</td>\n",
       "      <td>0</td>\n",
       "      <td>怒</td>\n",
       "    </tr>\n",
       "    <tr>\n",
       "      <th>3</th>\n",
       "      <td>好像得产后抑郁症了，想离婚，感觉各种烦</td>\n",
       "      <td>0</td>\n",
       "      <td>0</td>\n",
       "      <td>0</td>\n",
       "      <td>0</td>\n",
       "      <td>0</td>\n",
       "      <td>1</td>\n",
       "      <td>0</td>\n",
       "      <td>恶</td>\n",
       "    </tr>\n",
       "    <tr>\n",
       "      <th>4</th>\n",
       "      <td>有了这个懒人烹饪锅我都爱上做饭啦！每天再也不用点外卖了傻瓜操做我这种厨房新手好适合</td>\n",
       "      <td>0</td>\n",
       "      <td>1</td>\n",
       "      <td>0</td>\n",
       "      <td>0</td>\n",
       "      <td>0</td>\n",
       "      <td>0</td>\n",
       "      <td>0</td>\n",
       "      <td>好</td>\n",
       "    </tr>\n",
       "  </tbody>\n",
       "</table>\n",
       "</div>"
      ],
      "text/plain": [
       "                                                  内容  乐的占比  好的占比  怒的占比  哀的占比  \\\n",
       "0  打工人，再也不用点外卖了！有了它，想吃啥就吃啥提前注水，开机加热半小时就可以吃到麻麻做的热乎...     2     2     0     0   \n",
       "1  宝宝辅食山药虾泥这个味道真的很好我家不爱吃辅食的宝宝都喜欢?-好吃-宝妈们可以尝试一下哦山药...     0     3     0     0   \n",
       "2                    上火了，口苦，跟吃药了一样，例假也不来，我这心都滴了嗓子眼儿了     0     0     1     0   \n",
       "3                                好像得产后抑郁症了，想离婚，感觉各种烦     0     0     0     0   \n",
       "4          有了这个懒人烹饪锅我都爱上做饭啦！每天再也不用点外卖了傻瓜操做我这种厨房新手好适合     0     1     0     0   \n",
       "\n",
       "   惧的占比  恶的占比  惊的占比 标签  \n",
       "0     0     1     0  乐  \n",
       "1     0     0     0  好  \n",
       "2     0     0     0  怒  \n",
       "3     0     1     0  恶  \n",
       "4     0     0     0  好  "
      ]
     },
     "execution_count": 11,
     "metadata": {},
     "output_type": "execute_result"
    }
   ],
   "source": [
    "dfx.head()"
   ]
  },
  {
   "cell_type": "code",
   "execution_count": 12,
   "id": "77274d56",
   "metadata": {},
   "outputs": [],
   "source": [
    "label2info = {}\n",
    "for l in dfx['标签']:\n",
    "    label2info[l] = label2info.setdefault(l, 0) + 1"
   ]
  },
  {
   "cell_type": "code",
   "execution_count": 13,
   "id": "35615cc7",
   "metadata": {},
   "outputs": [
    {
     "data": {
      "text/plain": [
       "{'乐': 9151, '好': 5538, '怒': 69, '恶': 2534, '惧': 209, '惊': 38}"
      ]
     },
     "execution_count": 13,
     "metadata": {},
     "output_type": "execute_result"
    }
   ],
   "source": [
    "label2info"
   ]
  },
  {
   "cell_type": "code",
   "execution_count": 14,
   "id": "c27ccb0d",
   "metadata": {},
   "outputs": [
    {
     "data": {
      "text/html": [
       "\n",
       "<script>\n",
       "    require.config({\n",
       "        paths: {\n",
       "            'echarts':'https://assets.pyecharts.org/assets/echarts.min'\n",
       "        }\n",
       "    });\n",
       "</script>\n",
       "\n",
       "        <div id=\"a4ff84a260ed433a81a2c918cba8584e\" style=\"width:900px; height:500px;\"></div>\n",
       "\n",
       "<script>\n",
       "        require(['echarts'], function(echarts) {\n",
       "                var chart_a4ff84a260ed433a81a2c918cba8584e = echarts.init(\n",
       "                    document.getElementById('a4ff84a260ed433a81a2c918cba8584e'), 'white', {renderer: 'canvas'});\n",
       "                var option_a4ff84a260ed433a81a2c918cba8584e = {\n",
       "    \"animation\": true,\n",
       "    \"animationThreshold\": 2000,\n",
       "    \"animationDuration\": 1000,\n",
       "    \"animationEasing\": \"cubicOut\",\n",
       "    \"animationDelay\": 0,\n",
       "    \"animationDurationUpdate\": 300,\n",
       "    \"animationEasingUpdate\": \"cubicOut\",\n",
       "    \"animationDelayUpdate\": 0,\n",
       "    \"color\": [\n",
       "        \"#c23531\",\n",
       "        \"#2f4554\",\n",
       "        \"#61a0a8\",\n",
       "        \"#d48265\",\n",
       "        \"#749f83\",\n",
       "        \"#ca8622\",\n",
       "        \"#bda29a\",\n",
       "        \"#6e7074\",\n",
       "        \"#546570\",\n",
       "        \"#c4ccd3\",\n",
       "        \"#f05b72\",\n",
       "        \"#ef5b9c\",\n",
       "        \"#f47920\",\n",
       "        \"#905a3d\",\n",
       "        \"#fab27b\",\n",
       "        \"#2a5caa\",\n",
       "        \"#444693\",\n",
       "        \"#726930\",\n",
       "        \"#b2d235\",\n",
       "        \"#6d8346\",\n",
       "        \"#ac6767\",\n",
       "        \"#1d953f\",\n",
       "        \"#6950a1\",\n",
       "        \"#918597\"\n",
       "    ],\n",
       "    \"series\": [\n",
       "        {\n",
       "            \"type\": \"pie\",\n",
       "            \"clockwise\": true,\n",
       "            \"data\": [\n",
       "                {\n",
       "                    \"name\": \"\\u4e50\",\n",
       "                    \"value\": 9151\n",
       "                },\n",
       "                {\n",
       "                    \"name\": \"\\u597d\",\n",
       "                    \"value\": 5538\n",
       "                },\n",
       "                {\n",
       "                    \"name\": \"\\u6012\",\n",
       "                    \"value\": 69\n",
       "                },\n",
       "                {\n",
       "                    \"name\": \"\\u6076\",\n",
       "                    \"value\": 2534\n",
       "                },\n",
       "                {\n",
       "                    \"name\": \"\\u60e7\",\n",
       "                    \"value\": 209\n",
       "                },\n",
       "                {\n",
       "                    \"name\": \"\\u60ca\",\n",
       "                    \"value\": 38\n",
       "                }\n",
       "            ],\n",
       "            \"radius\": [\n",
       "                \"0%\",\n",
       "                \"75%\"\n",
       "            ],\n",
       "            \"center\": [\n",
       "                \"50%\",\n",
       "                \"50%\"\n",
       "            ],\n",
       "            \"label\": {\n",
       "                \"show\": true,\n",
       "                \"position\": \"top\",\n",
       "                \"margin\": 8,\n",
       "                \"formatter\": \"{b}: {c}\"\n",
       "            },\n",
       "            \"rippleEffect\": {\n",
       "                \"show\": true,\n",
       "                \"brushType\": \"stroke\",\n",
       "                \"scale\": 2.5,\n",
       "                \"period\": 4\n",
       "            }\n",
       "        }\n",
       "    ],\n",
       "    \"legend\": [\n",
       "        {\n",
       "            \"data\": [\n",
       "                \"\\u4e50\",\n",
       "                \"\\u597d\",\n",
       "                \"\\u6012\",\n",
       "                \"\\u6076\",\n",
       "                \"\\u60e7\",\n",
       "                \"\\u60ca\"\n",
       "            ],\n",
       "            \"selected\": {},\n",
       "            \"show\": true,\n",
       "            \"padding\": 5,\n",
       "            \"itemGap\": 10,\n",
       "            \"itemWidth\": 25,\n",
       "            \"itemHeight\": 14\n",
       "        }\n",
       "    ],\n",
       "    \"tooltip\": {\n",
       "        \"show\": true,\n",
       "        \"trigger\": \"item\",\n",
       "        \"triggerOn\": \"mousemove|click\",\n",
       "        \"axisPointer\": {\n",
       "            \"type\": \"line\"\n",
       "        },\n",
       "        \"showContent\": true,\n",
       "        \"alwaysShowContent\": false,\n",
       "        \"showDelay\": 0,\n",
       "        \"hideDelay\": 100,\n",
       "        \"textStyle\": {\n",
       "            \"fontSize\": 14\n",
       "        },\n",
       "        \"borderWidth\": 0,\n",
       "        \"padding\": 5\n",
       "    },\n",
       "    \"title\": [\n",
       "        {\n",
       "            \"text\": \"\\u7ec6\\u7c92\\u5ea6\\u60c5\\u611f\\u5360\\u6bd4\",\n",
       "            \"padding\": 5,\n",
       "            \"itemGap\": 10\n",
       "        }\n",
       "    ]\n",
       "};\n",
       "                chart_a4ff84a260ed433a81a2c918cba8584e.setOption(option_a4ff84a260ed433a81a2c918cba8584e);\n",
       "        });\n",
       "    </script>\n"
      ],
      "text/plain": [
       "<pyecharts.render.display.HTML at 0x2747bf9e438>"
      ]
     },
     "execution_count": 14,
     "metadata": {},
     "output_type": "execute_result"
    }
   ],
   "source": [
    "from pyecharts import options as opts\n",
    "from pyecharts.charts import Page, Pie\n",
    "l1 = []\n",
    "num = []\n",
    "for k, v in label2info.items():\n",
    "    l1.append(k)\n",
    "    num.append(v)\n",
    "c = (\n",
    "        Pie()\n",
    "        .add(\"\", [list(z) for z in zip(l1,num)])\n",
    "        .set_global_opts(title_opts=opts.TitleOpts(title=\"细粒度情感占比\"))\n",
    "        .set_series_opts(label_opts=opts.LabelOpts(formatter=\"{b}: {c}\"))\n",
    "    )\n",
    "c.render_notebook()"
   ]
  },
  {
   "cell_type": "code",
   "execution_count": 15,
   "id": "798c051b",
   "metadata": {},
   "outputs": [],
   "source": [
    "dfx.to_excel('final_results.xlsx', index=False)"
   ]
  },
  {
   "cell_type": "code",
   "execution_count": null,
   "id": "9e0ee412",
   "metadata": {},
   "outputs": [],
   "source": []
  }
 ],
 "metadata": {
  "kernelspec": {
   "display_name": "Python 3",
   "language": "python",
   "name": "python3"
  },
  "language_info": {
   "codemirror_mode": {
    "name": "ipython",
    "version": 3
   },
   "file_extension": ".py",
   "mimetype": "text/x-python",
   "name": "python",
   "nbconvert_exporter": "python",
   "pygments_lexer": "ipython3",
   "version": "3.6.6"
  }
 },
 "nbformat": 4,
 "nbformat_minor": 5
}
